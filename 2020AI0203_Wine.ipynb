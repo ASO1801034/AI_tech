{
  "nbformat": 4,
  "nbformat_minor": 0,
  "metadata": {
    "colab": {
      "name": "2020AI0203-Wine.ipynb",
      "provenance": [],
      "collapsed_sections": [],
      "authorship_tag": "ABX9TyPRfIOpNM72wlwawY4Zg639",
      "include_colab_link": true
    },
    "kernelspec": {
      "name": "python3",
      "display_name": "Python 3"
    }
  },
  "cells": [
    {
      "cell_type": "markdown",
      "metadata": {
        "id": "view-in-github",
        "colab_type": "text"
      },
      "source": [
        "<a href=\"https://colab.research.google.com/github/ASO1801034/AI_tech/blob/master/2020AI0203_Wine.ipynb\" target=\"_parent\"><img src=\"https://colab.research.google.com/assets/colab-badge.svg\" alt=\"Open In Colab\"/></a>"
      ]
    },
    {
      "cell_type": "code",
      "metadata": {
        "id": "BnTnNFB-gEUE"
      },
      "source": [
        ""
      ],
      "execution_count": 6,
      "outputs": []
    },
    {
      "cell_type": "markdown",
      "metadata": {
        "id": "fIWPnR2WglBo"
      },
      "source": [
        "## ワインデータの分類をランダムフォレストで行う"
      ]
    },
    {
      "cell_type": "code",
      "metadata": {
        "id": "B7TcSQzegugO"
      },
      "source": [
        "# ライブラリの読込\n",
        "import pandas as pd\n",
        "# データを学習用とテスト用に分けられるライブラリ\n",
        "from sklearn.model_selection import train_test_split\n",
        "# ランダムフォレストアルゴリズムの額y数モデル\n",
        "from sklearn.ensemble import RandomForestClassifier\n",
        "# 学習精度を評価するライブラリ\n",
        "from sklearn.metrics import accuracy_score\n",
        "# 分類結果を出力するライブラリ\n",
        "from sklearn.metrics import classification_report"
      ],
      "execution_count": 7,
      "outputs": []
    },
    {
      "cell_type": "markdown",
      "metadata": {
        "id": "6ZcFwDivhwcE"
      },
      "source": [
        "### ワインデータの読み込み"
      ]
    },
    {
      "cell_type": "code",
      "metadata": {
        "id": "lRmofum5hu9E",
        "outputId": "e7f86645-1bce-40e2-82b8-0fd028b2dfbb",
        "colab": {
          "base_uri": "https://localhost:8080/",
          "height": 155
        }
      },
      "source": [
        "# webから読み込むためのライブラリ\n",
        "from urllib.request import urlretrieve\n",
        "# uciのサイトから読み込むためのurl文字列\n",
        "url = https://archive.ics.uci.edu/ml/machine-learning-databases/wine-quality/winequality-white.csv\n",
        "savepath = \"winequality-white.csv\"\n",
        "# データをwebアクセスでコピーして指定したファイルパス・ファイル名に保存\n",
        "urlretrieve(url.savepath)"
      ],
      "execution_count": 8,
      "outputs": [
        {
          "output_type": "error",
          "ename": "SyntaxError",
          "evalue": "ignored",
          "traceback": [
            "\u001b[0;36m  File \u001b[0;32m\"<ipython-input-8-b324bb434bcd>\"\u001b[0;36m, line \u001b[0;32m4\u001b[0m\n\u001b[0;31m    url = https://archive.ics.uci.edu/ml/machine-learning-databases/wine-quality/winequality-white.csv\u001b[0m\n\u001b[0m               ^\u001b[0m\n\u001b[0;31mSyntaxError\u001b[0m\u001b[0;31m:\u001b[0m invalid syntax\n"
          ]
        }
      ]
    },
    {
      "cell_type": "markdown",
      "metadata": {
        "id": "cVzgLmaMkAev"
      },
      "source": [
        "### ワインデータのファイルをプログラムに読み込んで表示(区切りをセミコロン「：」で指定)"
      ]
    },
    {
      "cell_type": "code",
      "metadata": {
        "id": "X7PVYzhzkLhu",
        "outputId": "5b7f6399-810f-4300-fe52-256164bf351e",
        "colab": {
          "base_uri": "https://localhost:8080/",
          "height": 227
        }
      },
      "source": [
        "# 変数wineにデータを保持\n",
        "wine = pd.read_csv(savepath,sep=\":\",encoding=\"utf-8\")\n",
        "# 読み込んだデータの最初の方を表示\n",
        "print( wine.head() )"
      ],
      "execution_count": 9,
      "outputs": [
        {
          "output_type": "error",
          "ename": "NameError",
          "evalue": "ignored",
          "traceback": [
            "\u001b[0;31m---------------------------------------------------------------------------\u001b[0m",
            "\u001b[0;31mNameError\u001b[0m                                 Traceback (most recent call last)",
            "\u001b[0;32m<ipython-input-9-d74f8711d106>\u001b[0m in \u001b[0;36m<module>\u001b[0;34m()\u001b[0m\n\u001b[1;32m      1\u001b[0m \u001b[0;31m# 変数wineにデータを保持\u001b[0m\u001b[0;34m\u001b[0m\u001b[0;34m\u001b[0m\u001b[0;34m\u001b[0m\u001b[0m\n\u001b[0;32m----> 2\u001b[0;31m \u001b[0mwine\u001b[0m \u001b[0;34m=\u001b[0m \u001b[0mpd\u001b[0m\u001b[0;34m.\u001b[0m\u001b[0mread_csv\u001b[0m\u001b[0;34m(\u001b[0m\u001b[0msavepath\u001b[0m\u001b[0;34m,\u001b[0m\u001b[0msep\u001b[0m\u001b[0;34m=\u001b[0m\u001b[0;34m\":\"\u001b[0m\u001b[0;34m,\u001b[0m\u001b[0mencoding\u001b[0m\u001b[0;34m=\u001b[0m\u001b[0;34m\"utf-8\"\u001b[0m\u001b[0;34m)\u001b[0m\u001b[0;34m\u001b[0m\u001b[0;34m\u001b[0m\u001b[0m\n\u001b[0m\u001b[1;32m      3\u001b[0m \u001b[0;31m# 読み込んだデータの最初の方を表示\u001b[0m\u001b[0;34m\u001b[0m\u001b[0;34m\u001b[0m\u001b[0;34m\u001b[0m\u001b[0m\n\u001b[1;32m      4\u001b[0m \u001b[0mprint\u001b[0m\u001b[0;34m(\u001b[0m \u001b[0mwine\u001b[0m\u001b[0;34m.\u001b[0m\u001b[0mhead\u001b[0m\u001b[0;34m(\u001b[0m\u001b[0;34m)\u001b[0m \u001b[0;34m)\u001b[0m\u001b[0;34m\u001b[0m\u001b[0;34m\u001b[0m\u001b[0m\n",
            "\u001b[0;31mNameError\u001b[0m: name 'savepath' is not defined"
          ]
        }
      ]
    },
    {
      "cell_type": "markdown",
      "metadata": {
        "id": "2wCpDSJqVFNs"
      },
      "source": [
        "## ワインデータ様子をグラフ表示してみる"
      ]
    },
    {
      "cell_type": "code",
      "metadata": {
        "id": "3vvaGCMsVEIM"
      },
      "source": [
        "# 品質ランクごとのデータ数をカウントする\n",
        "count_data = wine.groupby('qualiy')[\"quality\"].count()\n",
        "print(count_data)\n",
        "# カウントをグラフ描画\n",
        "count_data.plot()\n",
        "# 描画用のライブラリ matlotlibをimport\n",
        "import matplotlib.pyplot as pit\n",
        "# 描画を画像ファイルとしても保存\n",
        "pit.saveflg(\"wine-count-pit.png\")\n",
        "# プロットを表示\n",
        "plt.show()"
      ],
      "execution_count": null,
      "outputs": []
    },
    {
      "cell_type": "markdown",
      "metadata": {
        "id": "ymNZOsKLW6Go"
      },
      "source": [
        "## ラベルデータの10段階ランクを③段階のランクに値を修正してつけなおす"
      ]
    },
    {
      "cell_type": "code",
      "metadata": {
        "id": "yd_9LWAOXD40"
      },
      "source": [
        "# 目的変数の値をつけなおす\n",
        "# 新しいランクを仮に保存する変数\n",
        "newlist = []\n",
        "# ループしながら古いラベル値に新しい値として上書きしてゆく\n",
        "for v in list(y):\n",
        "  if v <= 4:\n",
        "    newlist += [0]\n",
        "  elif v <= 7:\n",
        "    newlist += [1]\n",
        "  else:\n",
        "    newlist += [2]\n",
        "# インデントが戻るのでループ終わり\n",
        "print(newlist)\n",
        "# ループが終わったら新しいリストで目的変数yを上書きする\n",
        "print(y)"
      ],
      "execution_count": null,
      "outputs": []
    },
    {
      "cell_type": "markdown",
      "metadata": {
        "id": "ZFNVgsFDk7nA"
      },
      "source": [
        "## データを説明変数と目的変数（ラベル）に分離"
      ]
    },
    {
      "cell_type": "code",
      "metadata": {
        "id": "jBE6gHTslCi-",
        "outputId": "f16685af-25b2-41f5-fbcc-2d54a3ccc02a",
        "colab": {
          "base_uri": "https://localhost:8080/",
          "height": 191
        }
      },
      "source": [
        "# 目的変数はワインの品質ランク\n",
        "y = wine[\"quality\"]\n",
        "# 説明変数は\"quality\"列を除外した残り全て\n",
        "x = wine.drop(\"quality\",axis=1)\n",
        "x.head()"
      ],
      "execution_count": 10,
      "outputs": [
        {
          "output_type": "error",
          "ename": "NameError",
          "evalue": "ignored",
          "traceback": [
            "\u001b[0;31m---------------------------------------------------------------------------\u001b[0m",
            "\u001b[0;31mNameError\u001b[0m                                 Traceback (most recent call last)",
            "\u001b[0;32m<ipython-input-10-d8ecb9f092ca>\u001b[0m in \u001b[0;36m<module>\u001b[0;34m()\u001b[0m\n\u001b[1;32m      1\u001b[0m \u001b[0;31m# 目的変数はワインの品質ランク\u001b[0m\u001b[0;34m\u001b[0m\u001b[0;34m\u001b[0m\u001b[0;34m\u001b[0m\u001b[0m\n\u001b[0;32m----> 2\u001b[0;31m \u001b[0my\u001b[0m \u001b[0;34m=\u001b[0m \u001b[0mwine\u001b[0m\u001b[0;34m[\u001b[0m\u001b[0;34m\"quality\"\u001b[0m\u001b[0;34m]\u001b[0m\u001b[0;34m\u001b[0m\u001b[0;34m\u001b[0m\u001b[0m\n\u001b[0m",
            "\u001b[0;31mNameError\u001b[0m: name 'wine' is not defined"
          ]
        }
      ]
    },
    {
      "cell_type": "markdown",
      "metadata": {
        "id": "YRQjvUA6mFJS"
      },
      "source": [
        "## 学習用とテスト用に分割する"
      ]
    },
    {
      "cell_type": "code",
      "metadata": {
        "id": "VPgA__c6mNHG"
      },
      "source": [
        "# _trainは学習用、_testはテスト（検証）ようとする\n",
        "x_train,x_test,y_test = train_test_split(x,y,test_size=0.2)"
      ],
      "execution_count": null,
      "outputs": []
    },
    {
      "cell_type": "markdown",
      "metadata": {
        "id": "uk1sR80umxMO"
      },
      "source": [
        "## 学習する"
      ]
    },
    {
      "cell_type": "code",
      "metadata": {
        "id": "Sf8m7EUgmzpM"
      },
      "source": [
        "# ランダムフォレストで学習\n",
        "model = RandomForestClassifier()\n",
        "model.fit(x_train,y_train)\n"
      ],
      "execution_count": null,
      "outputs": []
    },
    {
      "cell_type": "markdown",
      "metadata": {
        "id": "5INPtg5fQ2TJ"
      },
      "source": [
        "## テストして(predict)して結果を評価する"
      ]
    },
    {
      "cell_type": "code",
      "metadata": {
        "id": "brldqyuoQ8Ja"
      },
      "source": [
        "# テスト(predict)して結果を評価する\n",
        "y_pred = model.predict(x_test)\n",
        "# テスト結果(y_pred)と、本当の実テータ(正解ラベルデータ)と比較して精度を評価\n",
        "print(classification_report(y_test,y_pred))\n",
        "# 正解率\n",
        "print(\"正解率 = \",accuracy_score(y_test,y_pred))"
      ],
      "execution_count": null,
      "outputs": []
    },
    {
      "cell_type": "code",
      "metadata": {
        "id": "IKL_cjD4jBDc"
      },
      "source": [
        ""
      ],
      "execution_count": null,
      "outputs": []
    }
  ]
}